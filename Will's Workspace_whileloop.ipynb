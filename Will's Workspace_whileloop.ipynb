{
 "cells": [
  {
   "cell_type": "markdown",
   "metadata": {},
   "source": [
    "### Workspace"
   ]
  },
  {
   "cell_type": "code",
   "execution_count": 7,
   "metadata": {
    "collapsed": true
   },
   "outputs": [],
   "source": [
    "%matplotlib notebook\n",
    "\n",
    "from modsim import *"
   ]
  },
  {
   "cell_type": "code",
   "execution_count": 8,
   "metadata": {
    "collapsed": true
   },
   "outputs": [],
   "source": [
    "altitude = [0, 1000, 2000, 3000, 4000, 5000, 6000, 7000, \n",
    "            8000, 9000, 10000, 15000, 20000, 25000, 30000,\n",
    "           40000, 50000, 60000, 70000, 80000]\n",
    "density = [1.225, 1.112, 1.007, .9093, .8194, .7364, .6601,\n",
    "          .5900, .5258, .4671, .4135, .1948, .08891, .04008,\n",
    "          .01841, .003996, .001027, .0003097, .00008283, .000001846]\n",
    "\n",
    "dd_da = TimeSeries()\n",
    "for i in range(20):\n",
    "    x = altitude[i]\n",
    "    y = density[i]\n",
    "    dd_da[x] = y\n",
    "\n",
    "dd_da = interpolate(dd_da, kind='cubic')"
   ]
  },
  {
   "cell_type": "code",
   "execution_count": 9,
   "metadata": {
    "collapsed": true
   },
   "outputs": [],
   "source": [
    "condition = Condition(height=90000,\n",
    "                      thrust_on=200,\n",
    "                      f_thrust=20,\n",
    "                      mass=1,\n",
    "                      length=.1,\n",
    "                      width=.1,\n",
    "                      dd_da=dd_da,\n",
    "                      C_d=1,\n",
    "                      g=9.8,\n",
    "                      dt=1)"
   ]
  },
  {
   "cell_type": "code",
   "execution_count": 32,
   "metadata": {
    "collapsed": true
   },
   "outputs": [],
   "source": [
    "def make_system(condition):\n",
    "    unpack(condition)\n",
    "    \n",
    "    init = State(height=height, velocity=0)\n",
    "    \n",
    "    drag_coef = -C_d*length*width / 2\n",
    "    \n",
    "    system = System(init=init,\n",
    "                    dt=dt,\n",
    "                    thrust_on=thrust_on,\n",
    "                    f_thrust=f_thrust,\n",
    "                    mass=mass,\n",
    "                    drag_coef=drag_coef,\n",
    "                    dd_da=dd_da)\n",
    "    return system\n",
    "\n",
    "def slope(state, system, dt, count):\n",
    "    unpack(system)\n",
    "    height, velocity = state\n",
    "    \n",
    "    if (height < thrust_on):\n",
    "        f_t=f_thrust\n",
    "    else:\n",
    "        f_t=0\n",
    "    \n",
    "    f_drag = drag_coef * abs(velocity) * velocity * abs(dd_da(height))\n",
    "    #print(f_drag)\n",
    "    a_drag = f_drag/mass\n",
    "\n",
    "    a_thrust = f_t/mass\n",
    "    a_grav = -g\n",
    "    a = a_grav + a_thrust + a_drag\n",
    "    dV = a*dt\n",
    "    velocity += dV\n",
    "    \n",
    "    dH = velocity*dt\n",
    "    height += dH\n",
    "         \n",
    "    return State(height=height, velocity=velocity)\n",
    "\n",
    "def run_ode_best(system, slope_func):\n",
    "    count = 0\n",
    "    unpack(system)\n",
    "    frame = TimeFrame(columns=init.index)\n",
    "    \n",
    "    frame.loc[0] = init\n",
    "    while(frame.loc[count].velocity <= 0):\n",
    "        frame.loc[count+dt] = slope_func(frame.loc[count], system, dt, count)\n",
    "        count += dt\n",
    "    system.count = count\n",
    "    system.results = frame\n",
    "def plot_height(results):\n",
    "    newfig()\n",
    "    unpack(results)\n",
    "    \n",
    "    plot(height, label='y')\n",
    "        \n",
    "    decorate(xlabel='Time (s)',\n",
    "             ylabel='Position (m)')\n",
    "\n",
    "    \n",
    "def plot_velocity(results):\n",
    "    newfig()\n",
    "    unpack(results)\n",
    "    \n",
    "    plot(velocity, label='v')\n",
    "    \n",
    "    decorate(xlabel='Time (s)',\n",
    "             ylabel='Velocity (m)')\n",
    "    \n",
    "def height_at_zero(system):\n",
    "    unpack(system)\n",
    "    if(t1 < 0):\n",
    "        return print(\"error, t1 is less than 0. William done messed up\")\n",
    "    velocity = system.results.velocity[t1:t2]\n",
    "    t = interp_inverse(velocity)\n",
    "    \n",
    "    time = t(0)\n",
    "    y = interpolate(system.results.height)\n",
    "    height = y(time)\n",
    "    return height\n",
    "\n",
    "def run_simulation():\n",
    "    system = make_system(condition)\n",
    "    run_ode_best(system, slope)\n",
    "    \n",
    "    #system.final_height = height_at_zero(system)\n",
    "    \n",
    "    return system"
   ]
  },
  {
   "cell_type": "code",
   "execution_count": 35,
   "metadata": {},
   "outputs": [
    {
     "name": "stdout",
     "output_type": "stream",
     "text": [
      "          height  velocity\n",
      "0.00  100.000000  0.000000\n",
      "0.01   99.999020 -0.098000\n",
      "0.02   99.997060 -0.195999\n",
      "0.03   99.994120 -0.293997\n",
      "0.04   99.990200 -0.391992\n",
      "0.05   99.985300 -0.489983\n",
      "0.06   99.979421 -0.587968\n",
      "0.07   99.972561 -0.685947\n",
      "0.08   99.964722 -0.783918\n",
      "0.09   99.955903 -0.881881\n",
      "0.10   99.946105 -0.979834\n",
      "0.11   99.935327 -1.077776\n",
      "0.12   99.923570 -1.175705\n",
      "0.13   99.910834 -1.273621\n",
      "0.14   99.897119 -1.371523\n",
      "0.15   99.882424 -1.469409\n",
      "0.16   99.866752 -1.567278\n",
      "0.17   99.850100 -1.665129\n",
      "0.18   99.832471 -1.762961\n",
      "0.19   99.813863 -1.860772\n",
      "0.20   99.794277 -1.958562\n",
      "0.21   99.773714 -2.056329\n",
      "0.22   99.752173 -2.154073\n",
      "0.23   99.729656 -2.251791\n",
      "0.24   99.706161 -2.349484\n",
      "0.25   99.681689 -2.447149\n",
      "0.26   99.656241 -2.544786\n",
      "0.27   99.629817 -2.642393\n",
      "0.28   99.602418 -2.739969\n",
      "0.29   99.574043 -2.837514\n",
      "...          ...       ...\n",
      "7.29  -36.194639 -2.867217\n",
      "7.30  -36.222286 -2.764712\n",
      "7.31  -36.248909 -2.662242\n",
      "7.32  -36.274507 -2.559807\n",
      "7.33  -36.299081 -2.457404\n",
      "7.34  -36.322631 -2.355033\n",
      "7.35  -36.345158 -2.252692\n",
      "7.36  -36.366662 -2.150380\n",
      "7.37  -36.387143 -2.048096\n",
      "7.38  -36.406601 -1.945838\n",
      "7.39  -36.425037 -1.843605\n",
      "7.40  -36.442451 -1.741396\n",
      "7.41  -36.458843 -1.639210\n",
      "7.42  -36.474214 -1.537045\n",
      "7.43  -36.488563 -1.434899\n",
      "7.44  -36.501890 -1.332773\n",
      "7.45  -36.514197 -1.230664\n",
      "7.46  -36.525483 -1.128571\n",
      "7.47  -36.535748 -1.026492\n",
      "7.48  -36.544992 -0.924428\n",
      "7.49  -36.553216 -0.822375\n",
      "7.50  -36.560419 -0.720333\n",
      "7.51  -36.566602 -0.618302\n",
      "7.52  -36.571765 -0.516278\n",
      "7.53  -36.575907 -0.414262\n",
      "7.54  -36.579030 -0.312251\n",
      "7.55  -36.581132 -0.210245\n",
      "7.56  -36.582215 -0.108242\n",
      "7.57  -36.582277 -0.006242\n",
      "7.58  -36.581320  0.095758\n",
      "\n",
      "[759 rows x 2 columns]\n"
     ]
    }
   ],
   "source": [
    "condition.set(dt=.01)\n",
    "condition.set(t_end = 20)\n",
    "condition.set(height = 100)\n",
    "condition.set(thrust_on = 5)\n",
    "\n",
    "#run2 = make_system(condition)\n",
    "#run_ode_better(run2, slope)\n",
    "run1 = run_simulation()\n",
    "print(run1.results)"
   ]
  },
  {
   "cell_type": "code",
   "execution_count": 12,
   "metadata": {},
   "outputs": [
    {
     "data": {
      "text/plain": [
       "array(15.089428781413437)"
      ]
     },
     "execution_count": 12,
     "metadata": {},
     "output_type": "execute_result"
    }
   ],
   "source": [
    "condition.set(thrust_on = 44)\n",
    "run2=run_simulation()\n",
    "run2.final_height"
   ]
  },
  {
   "cell_type": "code",
   "execution_count": 13,
   "metadata": {},
   "outputs": [],
   "source": [
    "#run2.results"
   ]
  },
  {
   "cell_type": "code",
   "execution_count": 14,
   "metadata": {},
   "outputs": [],
   "source": [
    "#test=run2.results.height[run2.t1:run2.t2]\n",
    "#newfig()\n",
    "#plot(test)"
   ]
  },
  {
   "cell_type": "code",
   "execution_count": 15,
   "metadata": {
    "scrolled": true
   },
   "outputs": [],
   "source": [
    "#plot_height(run2.results)"
   ]
  },
  {
   "cell_type": "code",
   "execution_count": 16,
   "metadata": {},
   "outputs": [],
   "source": [
    "#plot_velocity(run1.results)"
   ]
  },
  {
   "cell_type": "code",
   "execution_count": 18,
   "metadata": {},
   "outputs": [],
   "source": [
    "sweep = SweepSeries()\n",
    "condition.set(dt=.25)\n",
    "condition.set(t_end=100)\n",
    "condition.set(height=1000)\n",
    "for i in linrange(1, 10, 1):\n",
    "    condition.set(thrust_on=i)\n",
    "    system = make_system(condition)\n",
    "    run_ode_better(system, slope)\n",
    "    sweep[i] = height_at_zero(system)\n",
    "   # print(i)\n",
    "#sweep"
   ]
  },
  {
   "cell_type": "code",
   "execution_count": null,
   "metadata": {
    "collapsed": true
   },
   "outputs": [],
   "source": []
  },
  {
   "cell_type": "code",
   "execution_count": null,
   "metadata": {
    "collapsed": true
   },
   "outputs": [],
   "source": []
  },
  {
   "cell_type": "code",
   "execution_count": 64,
   "metadata": {
    "collapsed": true
   },
   "outputs": [],
   "source": []
  },
  {
   "cell_type": "code",
   "execution_count": null,
   "metadata": {
    "collapsed": true
   },
   "outputs": [],
   "source": []
  },
  {
   "cell_type": "code",
   "execution_count": 72,
   "metadata": {
    "collapsed": true
   },
   "outputs": [],
   "source": []
  },
  {
   "cell_type": "code",
   "execution_count": null,
   "metadata": {
    "collapsed": true
   },
   "outputs": [],
   "source": []
  },
  {
   "cell_type": "code",
   "execution_count": null,
   "metadata": {
    "collapsed": true
   },
   "outputs": [],
   "source": []
  }
 ],
 "metadata": {
  "kernelspec": {
   "display_name": "Python 3",
   "language": "python",
   "name": "python3"
  },
  "language_info": {
   "codemirror_mode": {
    "name": "ipython",
    "version": 3
   },
   "file_extension": ".py",
   "mimetype": "text/x-python",
   "name": "python",
   "nbconvert_exporter": "python",
   "pygments_lexer": "ipython3",
   "version": "3.6.1"
  }
 },
 "nbformat": 4,
 "nbformat_minor": 2
}
